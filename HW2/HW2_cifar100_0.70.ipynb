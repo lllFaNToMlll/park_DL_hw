{
 "cells": [
  {
   "cell_type": "code",
   "execution_count": 1,
   "metadata": {
    "id": "c3DbqwpCARHz"
   },
   "outputs": [],
   "source": [
    "import numpy as np\n",
    "import PIL\n",
    "import random\n",
    "from IPython.core.display import Image, display\n",
    "\n",
    "import torch\n",
    "import torch.nn as nn\n",
    "import torch.optim as optim\n",
    "import torch.nn.functional as F\n",
    "\n",
    "from tqdm import tqdm\n",
    "\n",
    "import torchvision\n",
    "import torchvision.transforms as transforms\n",
    "import torch.utils.data as data\n",
    "\n",
    "import math\n",
    "\n",
    "import matplotlib.pyplot as plt\n",
    "%matplotlib inline\n",
    "\n",
    "torch.manual_seed(2)\n",
    "np.random.seed(2)\n",
    "\n",
    "# правильно выбирайте карту, иначе все упадет!\n",
    "CUDA_DEVICE = torch.device(\"cuda\") if torch.cuda.is_available else torch.device('cpu')\n",
    "\n",
    "def data2image(data):\n",
    "    res = np.transpose(np.reshape(data ,(3, 32,32)), (1,2,0))\n",
    "    return PIL.Image.fromarray(np.uint8(res))\n",
    "\n",
    "def imshow(img):\n",
    "    npimg = img.numpy().astype('uint8')\n",
    "    plt.imshow(np.transpose(npimg, (1, 2, 0)))"
   ]
  },
  {
   "cell_type": "code",
   "execution_count": 2,
   "metadata": {
    "id": "-AzPqcjnARH2"
   },
   "outputs": [],
   "source": [
    "class CustomC100Dataset(data.Dataset):\n",
    "    def __init__(self, dataset_path, dataset_type, img_cnt = 50000, transform = None, target_transform = None):\n",
    "        if dataset_type not in ['train', 'test', \"val\"]:\n",
    "            raise \"Unknown dataset type : {}\".format(dataset_type)\n",
    "        self.ds_type = dataset_type\n",
    "        self.ds_path = dataset_path\n",
    "        self.img_cnt = img_cnt\n",
    "        self.transform = transform\n",
    "        self.t_transform = target_transform\n",
    "        self.__load__()\n",
    "    \n",
    "    def __load__(self):\n",
    "        dataset = np.load(self.ds_path)\n",
    "        if self.ds_type == 'train' or self.ds_type == \"val\":\n",
    "            dataset = dataset.reshape((self.img_cnt,3073))\n",
    "            self.y, self.x = np.hsplit(dataset, [1])\n",
    "            self.y = self.y.astype(np.int64)\n",
    "            self.x = self.x.reshape((self.x.shape[0],3,32,32))\n",
    "            self.x = self.x.transpose((0, 2, 3, 1))\n",
    "        \n",
    "        if self.ds_type == 'test':\n",
    "            dataset = dataset.reshape((self.img_cnt,3072))\n",
    "            self.y = np.zeros((dataset.shape[0], 1), dtype=np.int64)\n",
    "            self.x = dataset.reshape((dataset.shape[0],3,32,32))\n",
    "            self.x = self.x.transpose((0, 2, 3, 1))\n",
    "    \n",
    "    def __getitem__(self, index):\n",
    "        img, target = self.x[index], self.y[index]\n",
    "        \n",
    "        img = PIL.Image.fromarray(img)\n",
    "        \n",
    "        if self.transform is not None:\n",
    "            img = self.transform(img)\n",
    "\n",
    "        if self.t_transform is not None:\n",
    "            target = self.t_transform(target)\n",
    "            \n",
    "        return img, target\n",
    "\n",
    "    \n",
    "    def __len__(self):\n",
    "        return len(self.x)"
   ]
  },
  {
   "cell_type": "code",
   "execution_count": 3,
   "metadata": {
    "id": "RJMoFPVDARH4"
   },
   "outputs": [],
   "source": [
    "data_stats = ((0.4914, 0.4822, 0.4465), (0.2023, 0.1994, 0.2010))\n",
    "transform_train = transforms.Compose([\n",
    "    # тут надо сделать аугментации и преобразования для trainset\n",
    "    transforms.RandomCrop(32, padding=4, padding_mode=\"reflect\"),\n",
    "    transforms.RandomHorizontalFlip(),\n",
    "    transforms.ToTensor(),\n",
    "    transforms.Normalize(*data_stats, inplace=True)\n",
    "])\n",
    "\n",
    "transform_test = transforms.Compose([\n",
    "    # тут так же преобразования, но для testset\n",
    "    transforms.ToTensor(),\n",
    "    transforms.Normalize(*data_stats, inplace=True)\n",
    "])\n",
    "\n",
    "# подумайте, должны ли преобразования train и test сет быть абсолютно одинаковыми ?\n",
    "\n",
    "test_nc_dataset = CustomC100Dataset('homework_2_no_classes.test.npy', 'test', img_cnt = 10000, transform = transform_test)"
   ]
  },
  {
   "cell_type": "code",
   "execution_count": 4,
   "metadata": {
    "id": "gTiycR9rgHjb"
   },
   "outputs": [],
   "source": [
    "from sklearn.model_selection import train_test_split\n",
    "train_dataset = np.load(\"homework_2.train.npy\")\n",
    "buf = train_dataset[:,0]\n",
    "train, val = train_test_split(train_dataset, test_size = 0.1, stratify=buf, shuffle=True, random_state=30)\n",
    "np.save(\"train.npy\", train)\n",
    "np.save(\"val.npy\", val)\n",
    "train_cnt = train.shape[0]\n",
    "val_cnt = val.shape[0]\n",
    "train_dataset = CustomC100Dataset(\"train.npy\", 'train', img_cnt = train_cnt, transform = transform_train)\n",
    "val_dataset = CustomC100Dataset(\"val.npy\", 'val', img_cnt = val_cnt, transform = transform_test)"
   ]
  },
  {
   "cell_type": "code",
   "execution_count": 5,
   "metadata": {
    "colab": {
     "base_uri": "https://localhost:8080/",
     "height": 266
    },
    "id": "qzix1n9PARH5",
    "outputId": "a80eb693-c22c-4090-a41f-eb8ba817edf0"
   },
   "outputs": [
    {
     "data": {
      "image/png": "[encoded data removed]",
      "text/plain": [
       "<Figure size 432x288 with 1 Axes>"
      ]
     },
     "metadata": {
      "needs_background": "light"
     },
     "output_type": "display_data"
    }
   ],
   "source": [
    "img, label = val_dataset[4]\n",
    "imshow(img)"
   ]
  },
  {
   "cell_type": "code",
   "execution_count": 6,
   "metadata": {
    "id": "HY-K-WsMARH5"
   },
   "outputs": [],
   "source": [
    "def conv3x3(in_planes, out_planes, stride=1):\n",
    "    #\"3x3 convolution with padding\"\n",
    "    return nn.Conv2d(in_planes, out_planes, kernel_size=3, stride=stride,\n",
    "                     padding=1, bias=False)\n",
    "\n",
    "class BasicBlock(nn.Module):\n",
    "    expansion = 1\n",
    "\n",
    "    def __init__(self, inplanes, planes, stride=1, downsample=None):\n",
    "        # конструктор базового блока\n",
    "        super(BasicBlock, self).__init__()\n",
    "        ## 1. subblock\n",
    "        self.conv1 = conv3x3(inplanes, planes, stride) # конволюции\n",
    "        self.bn1 = nn.BatchNorm2d(planes)              # батч нормализация\n",
    "        self.relu = nn.ReLU(inplace=True)              # нелинейность\n",
    "        # 2. subblock\n",
    "        self.conv2 = conv3x3(planes, planes)\n",
    "        self.bn2 = nn.BatchNorm2d(planes)\n",
    "        # residual connection if sizes of input features are not equal of output features\n",
    "        self.downsample = downsample\n",
    "        self.stride = stride\n",
    "\n",
    "    def forward(self, x):\n",
    "        # форвард базового блока        \n",
    "        residual = x\n",
    "\n",
    "        out = self.conv1(x)\n",
    "        out = self.bn1(out)\n",
    "        out = self.relu(out)\n",
    "\n",
    "        out = self.conv2(out)\n",
    "        out = self.bn2(out)\n",
    "\n",
    "        if self.downsample is not None:\n",
    "            residual = self.downsample(x)\n",
    "\n",
    "        out += residual\n",
    "        out = self.relu(out)\n",
    "\n",
    "        return out"
   ]
  },
  {
   "cell_type": "code",
   "execution_count": null,
   "metadata": {},
   "outputs": [],
   "source": [
    "#         super(ResNet, self).__init__()\n",
    "#         self.inplanes = 16\n",
    "#         self.conv1 = nn.Conv2d(3, 16, kernel_size=3, stride=1, padding=1, bias=False)# вставить сюда стартовую конволюцию из статьи\n",
    "#         self.bn1 =  nn.BatchNorm2d(64) # bn-слой\n",
    "#         self.relu = nn.ReLU(inplace=True)\n",
    "#         self.layer1 = self._make_layer(block, 16, layers[0], stride=1)\n",
    "#         self.layer2 = self._make_layer(block, 32, layers[1], stride=2)\n",
    "#         self.layer3 = self._make_layer(block, 64, layers[2], stride=2)\n",
    "\n",
    "#         self.classifier = nn.Sequential(\n",
    "#             nn.AvgPool2d(4),\n",
    "#             nn.Flatten(),\n",
    "#             nn.Linear(64 * block.expansion, num_classes)\n",
    "#         )\n",
    "        \n",
    "#         super(ResNet, self).__init__()\n",
    "#         self.inplanes = 16\n",
    "#         self.conv1 = nn.Conv2d(3, 16, kernel_size=3, stride=1, padding=1, bias=False)# вставить сюда стартовую конволюцию из статьи\n",
    "#         self.bn1 =  nn.BatchNorm2d(64) # bn-слой\n",
    "#         self.relu = nn.ReLU(inplace=True)\n",
    "#         self.layer1 = self._make_layer(block, 16, layers[0], stride=1)\n",
    "#         self.layer2 = self._make_layer(block, 32, layers[1], stride=2)\n",
    "#         self.layer3 = self._make_layer(block, 64, layers[2], stride=2)\n",
    "#         self.layer4 = self._make_layer(block, 128, layers[3], stride=2)\n",
    "\n",
    "#         self.classifier = nn.Sequential(\n",
    "#             nn.AvgPool2d(4),\n",
    "#             nn.Flatten(),\n",
    "#             nn.Linear(128 * block.expansion, num_classes)\n",
    "#         )"
   ]
  },
  {
   "cell_type": "code",
   "execution_count": 7,
   "metadata": {
    "id": "tv5ivgEsARH6"
   },
   "outputs": [],
   "source": [
    "# чтобы вы не запутались, сборку самой модели предоставляем\n",
    "class ResNet(nn.Module):\n",
    "\n",
    "    def __init__(self, block, layers, num_classes=100):\n",
    "        \n",
    "        super(ResNet, self).__init__()\n",
    "        self.inplanes = 64\n",
    "        self.conv1 = nn.Conv2d(3, 64, kernel_size=3, stride=1, padding=1, bias=False)# вставить сюда стартовую конволюцию из статьи\n",
    "        self.bn1 =  nn.BatchNorm2d(64) # bn-слой\n",
    "        self.relu = nn.ReLU(inplace=True)\n",
    "        self.layer1 = self._make_layer(block, 64, layers[0], stride=1)\n",
    "        self.layer2 = self._make_layer(block, 128, layers[1], stride=2)\n",
    "        self.layer3 = self._make_layer(block, 256, layers[2], stride=2)\n",
    "        self.layer4 = self._make_layer(block, 512, layers[3], stride=2)\n",
    "\n",
    "        self.classifier = nn.Sequential(\n",
    "            nn.AvgPool2d(4),\n",
    "            nn.Flatten(),\n",
    "            nn.Linear(512 * block.expansion, num_classes)\n",
    "        )\n",
    "\n",
    "        for m in self.modules():\n",
    "            if isinstance(m, nn.Conv2d) or isinstance(m, nn.Linear):\n",
    "                # написать инициализацию параметров конволюции\n",
    "                nn.init.kaiming_normal_(m.weight)\n",
    "            elif isinstance(m, nn.BatchNorm2d):\n",
    "                # инициализация параметров батч-нормализаций\n",
    "                nn.init.constant_(m.weight, 1)\n",
    "                nn.init.constant_(m.bias, 0)\n",
    "\n",
    "    def _make_layer(self, block, planes, blocks, stride=1):\n",
    "        downsample = None\n",
    "        if stride != 1 or self.inplanes != planes * block.expansion:\n",
    "            downsample = nn.Sequential(\n",
    "                # здесь необходимо привести слои для downsampling в shotrcut соединениях\n",
    "                nn.Conv2d(in_channels=self.inplanes, out_channels=planes * block.expansion,\n",
    "                    kernel_size=1, stride=stride),\n",
    "                nn.BatchNorm2d(planes * block.expansion) # !!!\n",
    "            )\n",
    "        layers = []\n",
    "        layers.append(block(self.inplanes, planes, stride, downsample))\n",
    "        self.inplanes = planes * block.expansion\n",
    "        for _ in range(1, blocks):\n",
    "            layers.append(block(self.inplanes, planes))\n",
    "\n",
    "        return nn.Sequential(*layers)\n",
    "\n",
    "    def forward(self, x):\n",
    "        x = self.conv1(x)\n",
    "        x = self.bn1(x)\n",
    "        x = self.relu(x)\n",
    "\n",
    "        x = self.layer1(x)\n",
    "        x = self.layer2(x)\n",
    "        x = self.layer3(x)\n",
    "        x = self.layer4(x)\n",
    "\n",
    "        return self.classifier(x)"
   ]
  },
  {
   "cell_type": "code",
   "execution_count": 8,
   "metadata": {
    "id": "kimfyEZOARH7"
   },
   "outputs": [],
   "source": [
    "# Выбирайте любой ResNet\n",
    "\n",
    "# def ResNet20():\n",
    "#     return ResNet(BasicBlock, [3,3,3], 100)\n",
    "\n",
    "# def ResNet32():\n",
    "#     return ResNet(BasicBlock, [5,5,5], 100)\n",
    "\n",
    "# def ResNet44():\n",
    "#     return ResNet(BasicBlock, [7,7,7], 100)\n",
    "\n",
    "# def ResNet56():\n",
    "#     return ResNet(BasicBlock, [9,9,9], 100)\n",
    "\n",
    "# def ResNet20():\n",
    "#     return ResNet(BasicBlock, [3,3,3,3], 100)\n",
    "\n",
    "# def ResNet32():\n",
    "#     return ResNet(BasicBlock, [5,5,5,5], 100)\n",
    "\n",
    "# def ResNet44():\n",
    "#     return ResNet(BasicBlock, [7,7,7,7], 100)\n",
    "\n",
    "# def ResNet56():\n",
    "#     return ResNet(BasicBlock, [9,9,9,9], 100)\n",
    "\n",
    "def ResNet18():\n",
    "    return ResNet(BasicBlock, [2, 2, 2, 2], 100)\n",
    "\n",
    "def ResNet34():\n",
    "    return ResNet(BasicBlock, [3, 4, 6, 3], 100)\n",
    "\n",
    "def ResNet50():\n",
    "    return ResNet(BasicBlock, [3, 4, 6, 3], 100)\n",
    "\n",
    "def ResNet101():\n",
    "    return ResNet(BasicBlock, [3, 4, 23, 3], 100)"
   ]
  },
  {
   "cell_type": "code",
   "execution_count": 9,
   "metadata": {
    "id": "z9pZAWPeARH7"
   },
   "outputs": [],
   "source": [
    "def acc_check(model, validation_loader, batch_size):\n",
    "    model.eval()\n",
    "    correct = 0.0\n",
    "    total = 0.0\n",
    "    with torch.no_grad():\n",
    "      for batch_idx, (inputs, labels) in enumerate(validation_loader):\n",
    "          inputs, labels = inputs.cuda(), labels.view(batch_size).cuda()\n",
    "          outputs = model(inputs)\n",
    "          outputs = F.softmax(outputs)\n",
    "          prob, predicted = torch.topk(outputs.data, 1)\n",
    "          total += labels.size(0)\n",
    "          correct += predicted.view(-1).eq(labels.data).sum()\n",
    "        \n",
    "    model.train()\n",
    "    return (correct / total)"
   ]
  },
  {
   "cell_type": "code",
   "execution_count": 10,
   "metadata": {
    "id": "9jSOKXsWARH8"
   },
   "outputs": [],
   "source": [
    "def make_solution_pytorch(model, test_data_loader, batch_size):\n",
    "    res = []\n",
    "    model.eval()\n",
    "    for batch_idx, (inputs, labels) in enumerate(test_data_loader):\n",
    "        inputs, labels = inputs.cuda(), labels.view(batch_size).cuda()\n",
    "        outputs = model(inputs)\n",
    "        outputs = F.softmax(outputs)\n",
    "        prob, predicted = torch.topk(outputs.data, 1)\n",
    "        res = np.append(res, predicted.view(-1).cpu().numpy())\n",
    "    model.train()\n",
    "    return res"
   ]
  },
  {
   "cell_type": "code",
   "execution_count": 11,
   "metadata": {
    "colab": {
     "base_uri": "https://localhost:8080/"
    },
    "id": "Rhbh966ZvN6S",
    "outputId": "a0e71b16-b48f-4244-ea55-f6989f0b44b1"
   },
   "outputs": [
    {
     "data": {
      "text/plain": [
       "device(type='cuda')"
      ]
     },
     "execution_count": 11,
     "metadata": {},
     "output_type": "execute_result"
    }
   ],
   "source": [
    "CUDA_DEVICE"
   ]
  },
  {
   "cell_type": "code",
   "execution_count": 12,
   "metadata": {
    "colab": {
     "base_uri": "https://localhost:8080/"
    },
    "id": "CVEH0_cnARH9",
    "outputId": "31e75705-ddbf-4a27-9785-7f8175a2626a",
    "scrolled": true
   },
   "outputs": [
    {
     "name": "stderr",
     "output_type": "stream",
     "text": [
      "  2%|▎         | 1/40 [00:43<28:01, 43.12s/it]"
     ]
    },
    {
     "name": "stdout",
     "output_type": "stream",
     "text": [
      "\n",
      "epoch: 1\n",
      "lr: 0.001\n",
      "Train accuracy: 0.07937778532505035\n",
      "Train loss: 4.115959167480469\n",
      "Validation accuracy: 0.14179998636245728\n",
      "Validation loss: 3.69987154006958\n"
     ]
    },
    {
     "name": "stderr",
     "output_type": "stream",
     "text": [
      "\r",
      "  5%|▌         | 2/40 [01:26<27:21, 43.19s/it]"
     ]
    },
    {
     "name": "stdout",
     "output_type": "stream",
     "text": [
      "\n",
      "epoch: 2\n",
      "lr: 0.02080\n",
      "Train accuracy: 0.14964444935321808\n",
      "Train loss: 3.6297199726104736\n",
      "Validation accuracy: 0.22379998862743378\n",
      "Validation loss: 3.167527675628662\n"
     ]
    },
    {
     "name": "stderr",
     "output_type": "stream",
     "text": [
      "\r",
      "  8%|▊         | 3/40 [02:09<26:39, 43.22s/it]"
     ]
    },
    {
     "name": "stdout",
     "output_type": "stream",
     "text": [
      "\n",
      "epoch: 3\n",
      "lr: 0.0406\n",
      "Train accuracy: 0.25913333892822266\n",
      "Train loss: 2.9226181507110596\n",
      "Validation accuracy: 0.30719998478889465\n",
      "Validation loss: 2.8197646141052246\n"
     ]
    },
    {
     "name": "stderr",
     "output_type": "stream",
     "text": [
      "\r",
      " 10%|█         | 4/40 [02:53<26:00, 43.34s/it]"
     ]
    },
    {
     "name": "stdout",
     "output_type": "stream",
     "text": [
      "\n",
      "epoch: 4\n",
      "lr: 0.06040\n",
      "Train accuracy: 0.3568666875362396\n",
      "Train loss: 2.436779737472534\n",
      "Validation accuracy: 0.3643999695777893\n",
      "Validation loss: 2.4383490085601807\n"
     ]
    },
    {
     "name": "stderr",
     "output_type": "stream",
     "text": [
      "\r",
      " 12%|█▎        | 5/40 [03:37<25:20, 43.44s/it]"
     ]
    },
    {
     "name": "stdout",
     "output_type": "stream",
     "text": [
      "\n",
      "epoch: 5\n",
      "lr: 0.0802\n",
      "Train accuracy: 0.4342889189720154\n",
      "Train loss: 2.09651780128479\n",
      "Validation accuracy: 0.4487999677658081\n",
      "Validation loss: 2.0515739917755127\n"
     ]
    },
    {
     "name": "stderr",
     "output_type": "stream",
     "text": [
      "\r",
      " 15%|█▌        | 6/40 [04:20<24:38, 43.49s/it]"
     ]
    },
    {
     "name": "stdout",
     "output_type": "stream",
     "text": [
      "\n",
      "epoch: 6\n",
      "lr: 0.1\n",
      "Train accuracy: 0.48428890109062195\n",
      "Train loss: 1.8762128353118896\n",
      "Validation accuracy: 0.48899996280670166\n",
      "Validation loss: 1.8735567331314087\n"
     ]
    },
    {
     "name": "stderr",
     "output_type": "stream",
     "text": [
      "\r",
      " 18%|█▊        | 7/40 [05:04<23:57, 43.55s/it]"
     ]
    },
    {
     "name": "stdout",
     "output_type": "stream",
     "text": [
      "\n",
      "epoch: 7\n",
      "lr: 0.0802\n",
      "Train accuracy: 0.5432222485542297\n",
      "Train loss: 1.6247581243515015\n",
      "Validation accuracy: 0.5135999917984009\n",
      "Validation loss: 1.7858312129974365\n"
     ]
    },
    {
     "name": "stderr",
     "output_type": "stream",
     "text": [
      "\r",
      " 20%|██        | 8/40 [05:47<23:13, 43.56s/it]"
     ]
    },
    {
     "name": "stdout",
     "output_type": "stream",
     "text": [
      "\n",
      "epoch: 8\n",
      "lr: 0.06040\n",
      "Train accuracy: 0.6007333397865295\n",
      "Train loss: 1.400664210319519\n",
      "Validation accuracy: 0.5745999813079834\n",
      "Validation loss: 1.5279477834701538\n"
     ]
    },
    {
     "name": "stderr",
     "output_type": "stream",
     "text": [
      "\r",
      " 22%|██▎       | 9/40 [06:31<22:29, 43.53s/it]"
     ]
    },
    {
     "name": "stdout",
     "output_type": "stream",
     "text": [
      "\n",
      "epoch: 9\n",
      "lr: 0.0406\n",
      "Train accuracy: 0.6467334032058716\n",
      "Train loss: 1.2131166458129883\n",
      "Validation accuracy: 0.5871999859809875\n",
      "Validation loss: 1.477333664894104\n"
     ]
    },
    {
     "name": "stderr",
     "output_type": "stream",
     "text": [
      "\r",
      " 25%|██▌       | 10/40 [07:15<21:48, 43.62s/it]"
     ]
    },
    {
     "name": "stdout",
     "output_type": "stream",
     "text": [
      "\n",
      "epoch: 10\n",
      "lr: 0.02080\n",
      "Train accuracy: 0.7010000348091125\n",
      "Train loss: 1.0036945343017578\n",
      "Validation accuracy: 0.6295999884605408\n",
      "Validation loss: 1.29306161403656\n"
     ]
    },
    {
     "name": "stderr",
     "output_type": "stream",
     "text": [
      "\r",
      " 28%|██▊       | 11/40 [07:58<21:02, 43.53s/it]"
     ]
    },
    {
     "name": "stdout",
     "output_type": "stream",
     "text": [
      "\n",
      "epoch: 11\n",
      "lr: 0.001\n",
      "Train accuracy: 0.755311131477356\n",
      "Train loss: 0.8133752346038818\n",
      "Validation accuracy: 0.6567999720573425\n",
      "Validation loss: 1.2063957452774048\n"
     ]
    },
    {
     "name": "stderr",
     "output_type": "stream",
     "text": [
      "\r",
      " 30%|███       | 12/40 [08:41<20:17, 43.47s/it]"
     ]
    },
    {
     "name": "stdout",
     "output_type": "stream",
     "text": [
      "\n",
      "epoch: 12\n",
      "lr: 0.01090\n",
      "Train accuracy: 0.7474222779273987\n",
      "Train loss: 0.8358754515647888\n",
      "Validation accuracy: 0.6469999551773071\n",
      "Validation loss: 1.2562798261642456\n"
     ]
    },
    {
     "name": "stderr",
     "output_type": "stream",
     "text": [
      "\r",
      " 32%|███▎      | 13/40 [09:25<19:31, 43.39s/it]"
     ]
    },
    {
     "name": "stdout",
     "output_type": "stream",
     "text": [
      "\n",
      "epoch: 13\n",
      "lr: 0.02080\n",
      "Train accuracy: 0.7291333675384521\n",
      "Train loss: 0.8867141008377075\n",
      "Validation accuracy: 0.6339999437332153\n",
      "Validation loss: 1.3260432481765747\n"
     ]
    },
    {
     "name": "stderr",
     "output_type": "stream",
     "text": [
      "\r",
      " 35%|███▌      | 14/40 [10:08<18:47, 43.36s/it]"
     ]
    },
    {
     "name": "stdout",
     "output_type": "stream",
     "text": [
      "\n",
      "epoch: 14\n",
      "lr: 0.03069\n",
      "Train accuracy: 0.7231555581092834\n",
      "Train loss: 0.9142385721206665\n",
      "Validation accuracy: 0.6255999803543091\n",
      "Validation loss: 1.3315290212631226\n"
     ]
    },
    {
     "name": "stderr",
     "output_type": "stream",
     "text": [
      "\r",
      " 38%|███▊      | 15/40 [10:51<18:02, 43.32s/it]"
     ]
    },
    {
     "name": "stdout",
     "output_type": "stream",
     "text": [
      "\n",
      "epoch: 15\n",
      "lr: 0.0406\n",
      "Train accuracy: 0.7178000211715698\n",
      "Train loss: 0.9273576736450195\n",
      "Validation accuracy: 0.6164000034332275\n",
      "Validation loss: 1.4034762382507324\n"
     ]
    },
    {
     "name": "stderr",
     "output_type": "stream",
     "text": [
      "\r",
      " 40%|████      | 16/40 [11:34<17:18, 43.28s/it]"
     ]
    },
    {
     "name": "stdout",
     "output_type": "stream",
     "text": [
      "\n",
      "epoch: 16\n",
      "lr: 0.0505\n",
      "Train accuracy: 0.7174667119979858\n",
      "Train loss: 0.9263078570365906\n",
      "Validation accuracy: 0.6073999404907227\n",
      "Validation loss: 1.4669393301010132\n"
     ]
    },
    {
     "name": "stderr",
     "output_type": "stream",
     "text": [
      "\r",
      " 42%|████▎     | 17/40 [12:18<16:35, 43.26s/it]"
     ]
    },
    {
     "name": "stdout",
     "output_type": "stream",
     "text": [
      "\n",
      "epoch: 17\n",
      "lr: 0.0406\n",
      "Train accuracy: 0.7544222474098206\n",
      "Train loss: 0.8022632598876953\n",
      "Validation accuracy: 0.6279999613761902\n",
      "Validation loss: 1.4707657098770142\n"
     ]
    },
    {
     "name": "stderr",
     "output_type": "stream",
     "text": [
      "\r",
      " 45%|████▌     | 18/40 [13:01<15:51, 43.24s/it]"
     ]
    },
    {
     "name": "stdout",
     "output_type": "stream",
     "text": [
      "\n",
      "epoch: 18\n",
      "lr: 0.03069\n",
      "Train accuracy: 0.7889778017997742\n",
      "Train loss: 0.6738707423210144\n",
      "Validation accuracy: 0.6571999788284302\n",
      "Validation loss: 1.303024411201477\n"
     ]
    },
    {
     "name": "stderr",
     "output_type": "stream",
     "text": [
      "\r",
      " 48%|████▊     | 19/40 [13:44<15:08, 43.24s/it]"
     ]
    },
    {
     "name": "stdout",
     "output_type": "stream",
     "text": [
      "\n",
      "epoch: 19\n",
      "lr: 0.02080\n",
      "Train accuracy: 0.8300000429153442\n",
      "Train loss: 0.5378511548042297\n",
      "Validation accuracy: 0.6613999605178833\n",
      "Validation loss: 1.3083692789077759\n"
     ]
    },
    {
     "name": "stderr",
     "output_type": "stream",
     "text": [
      "\r",
      " 50%|█████     | 20/40 [14:27<14:25, 43.26s/it]"
     ]
    },
    {
     "name": "stdout",
     "output_type": "stream",
     "text": [
      "\n",
      "epoch: 20\n",
      "lr: 0.01090\n",
      "Train accuracy: 0.8730889558792114\n",
      "Train loss: 0.3978346288204193\n",
      "Validation accuracy: 0.6850000023841858\n",
      "Validation loss: 1.3039860725402832\n"
     ]
    },
    {
     "name": "stderr",
     "output_type": "stream",
     "text": [
      "\r",
      " 52%|█████▎    | 21/40 [15:10<13:41, 43.26s/it]"
     ]
    },
    {
     "name": "stdout",
     "output_type": "stream",
     "text": [
      "\n",
      "epoch: 21\n",
      "lr: 0.001\n",
      "Train accuracy: 0.910111129283905\n",
      "Train loss: 0.2906513512134552\n",
      "Validation accuracy: 0.6959999799728394\n",
      "Validation loss: 1.2124793529510498\n"
     ]
    },
    {
     "name": "stderr",
     "output_type": "stream",
     "text": [
      "\r",
      " 55%|█████▌    | 22/40 [15:54<12:58, 43.26s/it]"
     ]
    },
    {
     "name": "stdout",
     "output_type": "stream",
     "text": [
      "\n",
      "epoch: 22\n",
      "lr: 0.00595\n",
      "Train accuracy: 0.9074222445487976\n",
      "Train loss: 0.29096516966819763\n",
      "Validation accuracy: 0.6922000050544739\n",
      "Validation loss: 1.2757246494293213\n"
     ]
    },
    {
     "name": "stderr",
     "output_type": "stream",
     "text": [
      "\r",
      " 57%|█████▊    | 23/40 [16:37<12:15, 43.27s/it]"
     ]
    },
    {
     "name": "stdout",
     "output_type": "stream",
     "text": [
      "\n",
      "epoch: 23\n",
      "lr: 0.01090\n",
      "Train accuracy: 0.8980222344398499\n",
      "Train loss: 0.3166968524456024\n",
      "Validation accuracy: 0.6815999746322632\n",
      "Validation loss: 1.3075650930404663\n"
     ]
    },
    {
     "name": "stderr",
     "output_type": "stream",
     "text": [
      "\r",
      " 60%|██████    | 24/40 [17:20<11:32, 43.30s/it]"
     ]
    },
    {
     "name": "stdout",
     "output_type": "stream",
     "text": [
      "\n",
      "epoch: 24\n",
      "lr: 0.01584\n",
      "Train accuracy: 0.8864444494247437\n",
      "Train loss: 0.34587642550468445\n",
      "Validation accuracy: 0.6782000064849854\n",
      "Validation loss: 1.3662384748458862\n"
     ]
    },
    {
     "name": "stderr",
     "output_type": "stream",
     "text": [
      "\r",
      " 62%|██████▎   | 25/40 [18:04<10:49, 43.28s/it]"
     ]
    },
    {
     "name": "stdout",
     "output_type": "stream",
     "text": [
      "\n",
      "epoch: 25\n",
      "lr: 0.0208\n",
      "Train accuracy: 0.8737999796867371\n",
      "Train loss: 0.38457900285720825\n",
      "Validation accuracy: 0.6708000302314758\n",
      "Validation loss: 1.3881250619888306\n"
     ]
    },
    {
     "name": "stderr",
     "output_type": "stream",
     "text": [
      "\r",
      " 65%|██████▌   | 26/40 [18:47<10:05, 43.26s/it]"
     ]
    },
    {
     "name": "stdout",
     "output_type": "stream",
     "text": [
      "\n",
      "epoch: 26\n",
      "lr: 0.02575\n",
      "Train accuracy: 0.8610444664955139\n",
      "Train loss: 0.4171821177005768\n",
      "Validation accuracy: 0.6479999423027039\n",
      "Validation loss: 1.4729396104812622\n"
     ]
    },
    {
     "name": "stderr",
     "output_type": "stream",
     "text": [
      "\r",
      " 68%|██████▊   | 27/40 [19:30<09:22, 43.24s/it]"
     ]
    },
    {
     "name": "stdout",
     "output_type": "stream",
     "text": [
      "\n",
      "epoch: 27\n",
      "lr: 0.0208\n",
      "Train accuracy: 0.8860666751861572\n",
      "Train loss: 0.34428560733795166\n",
      "Validation accuracy: 0.6741999387741089\n",
      "Validation loss: 1.3954194784164429\n"
     ]
    },
    {
     "name": "stderr",
     "output_type": "stream",
     "text": [
      "\r",
      " 70%|███████   | 28/40 [20:14<08:39, 43.32s/it]"
     ]
    },
    {
     "name": "stdout",
     "output_type": "stream",
     "text": [
      "\n",
      "epoch: 28\n",
      "lr: 0.01584\n",
      "Train accuracy: 0.9151555895805359\n",
      "Train loss: 0.2609919607639313\n",
      "Validation accuracy: 0.6787999868392944\n",
      "Validation loss: 1.4271583557128906\n"
     ]
    },
    {
     "name": "stderr",
     "output_type": "stream",
     "text": [
      "\r",
      " 72%|███████▎  | 29/40 [20:57<07:56, 43.29s/it]"
     ]
    },
    {
     "name": "stdout",
     "output_type": "stream",
     "text": [
      "\n",
      "epoch: 29\n",
      "lr: 0.01090\n",
      "Train accuracy: 0.9391555786132812\n",
      "Train loss: 0.18582738935947418\n",
      "Validation accuracy: 0.6893999576568604\n",
      "Validation loss: 1.4169068336486816\n"
     ]
    },
    {
     "name": "stderr",
     "output_type": "stream",
     "text": [
      "\r",
      " 75%|███████▌  | 30/40 [21:40<07:12, 43.24s/it]"
     ]
    },
    {
     "name": "stdout",
     "output_type": "stream",
     "text": [
      "\n",
      "epoch: 30\n",
      "lr: 0.00595\n",
      "Train accuracy: 0.9604222774505615\n",
      "Train loss: 0.1308964341878891\n",
      "Validation accuracy: 0.7005999684333801\n",
      "Validation loss: 1.408842921257019\n"
     ]
    },
    {
     "name": "stderr",
     "output_type": "stream",
     "text": [
      "\r",
      " 78%|███████▊  | 31/40 [22:23<06:28, 43.22s/it]"
     ]
    },
    {
     "name": "stdout",
     "output_type": "stream",
     "text": [
      "\n",
      "epoch: 31\n",
      "lr: 0.001\n",
      "Train accuracy: 0.9727556109428406\n",
      "Train loss: 0.09568396210670471\n",
      "Validation accuracy: 0.7075999975204468\n",
      "Validation loss: 1.3891266584396362\n"
     ]
    },
    {
     "name": "stderr",
     "output_type": "stream",
     "text": [
      "\r",
      " 80%|████████  | 32/40 [23:06<05:45, 43.23s/it]"
     ]
    },
    {
     "name": "stdout",
     "output_type": "stream",
     "text": [
      "\n",
      "epoch: 32\n",
      "lr: 0.00347\n",
      "Train accuracy: 0.9736000299453735\n",
      "Train loss: 0.09146513789892197\n",
      "Validation accuracy: 0.7059999704360962\n",
      "Validation loss: 1.411536693572998\n"
     ]
    },
    {
     "name": "stderr",
     "output_type": "stream",
     "text": [
      "\r",
      " 82%|████████▎ | 33/40 [23:49<05:02, 43.18s/it]"
     ]
    },
    {
     "name": "stdout",
     "output_type": "stream",
     "text": [
      "\n",
      "epoch: 33\n",
      "lr: 0.00595\n",
      "Train accuracy: 0.9696222543716431\n",
      "Train loss: 0.1004718691110611\n",
      "Validation accuracy: 0.6983999609947205\n",
      "Validation loss: 1.4449665546417236\n"
     ]
    },
    {
     "name": "stderr",
     "output_type": "stream",
     "text": [
      "\r",
      " 85%|████████▌ | 34/40 [24:33<04:18, 43.16s/it]"
     ]
    },
    {
     "name": "stdout",
     "output_type": "stream",
     "text": [
      "\n",
      "epoch: 34\n",
      "lr: 0.00842\n",
      "Train accuracy: 0.9680666923522949\n",
      "Train loss: 0.10367262363433838\n",
      "Validation accuracy: 0.7001999616622925\n",
      "Validation loss: 1.4731943607330322\n"
     ]
    },
    {
     "name": "stderr",
     "output_type": "stream",
     "text": [
      "\r",
      " 88%|████████▊ | 35/40 [25:16<03:35, 43.16s/it]"
     ]
    },
    {
     "name": "stdout",
     "output_type": "stream",
     "text": [
      "\n",
      "epoch: 35\n",
      "lr: 0.01090\n",
      "Train accuracy: 0.9629555940628052\n",
      "Train loss: 0.11766020953655243\n",
      "Validation accuracy: 0.693399965763092\n",
      "Validation loss: 1.5068585872650146\n"
     ]
    },
    {
     "name": "stderr",
     "output_type": "stream",
     "text": [
      "\r",
      " 90%|█████████ | 36/40 [25:59<02:52, 43.18s/it]"
     ]
    },
    {
     "name": "stdout",
     "output_type": "stream",
     "text": [
      "\n",
      "epoch: 36\n",
      "lr: 0.01337\n",
      "Train accuracy: 0.9534223079681396\n",
      "Train loss: 0.14301227033138275\n",
      "Validation accuracy: 0.6782000064849854\n",
      "Validation loss: 1.614726185798645\n"
     ]
    },
    {
     "name": "stderr",
     "output_type": "stream",
     "text": [
      "\r",
      " 92%|█████████▎| 37/40 [26:42<02:09, 43.18s/it]"
     ]
    },
    {
     "name": "stdout",
     "output_type": "stream",
     "text": [
      "\n",
      "epoch: 37\n",
      "lr: 0.01090\n",
      "Train accuracy: 0.9620222449302673\n",
      "Train loss: 0.11954323947429657\n",
      "Validation accuracy: 0.686199963092804\n",
      "Validation loss: 1.5805641412734985\n"
     ]
    },
    {
     "name": "stderr",
     "output_type": "stream",
     "text": [
      "\r",
      " 95%|█████████▌| 38/40 [27:25<01:26, 43.17s/it]"
     ]
    },
    {
     "name": "stdout",
     "output_type": "stream",
     "text": [
      "\n",
      "epoch: 38\n",
      "lr: 0.00842\n",
      "Train accuracy: 0.971844494342804\n",
      "Train loss: 0.09290820360183716\n",
      "Validation accuracy: 0.6941999793052673\n",
      "Validation loss: 1.5186748504638672\n"
     ]
    },
    {
     "name": "stderr",
     "output_type": "stream",
     "text": [
      "\r",
      " 98%|█████████▊| 39/40 [28:08<00:43, 43.18s/it]"
     ]
    },
    {
     "name": "stdout",
     "output_type": "stream",
     "text": [
      "\n",
      "epoch: 39\n",
      "lr: 0.00595\n",
      "Train accuracy: 0.9805334210395813\n",
      "Train loss: 0.06696868687868118\n",
      "Validation accuracy: 0.7049999833106995\n",
      "Validation loss: 1.5067663192749023\n"
     ]
    },
    {
     "name": "stderr",
     "output_type": "stream",
     "text": [
      "100%|██████████| 40/40 [28:52<00:00, 43.30s/it]"
     ]
    },
    {
     "name": "stdout",
     "output_type": "stream",
     "text": [
      "\n",
      "epoch: 40\n",
      "lr: 0.00347\n",
      "Train accuracy: 0.9863333702087402\n",
      "Train loss: 0.04970376938581467\n",
      "Validation accuracy: 0.7037999629974365\n",
      "Validation loss: 1.5111972093582153\n",
      "Finished Training\n"
     ]
    },
    {
     "name": "stderr",
     "output_type": "stream",
     "text": [
      "\n"
     ]
    }
   ],
   "source": [
    "#Обучение ResNet\n",
    "#Не забудьте вывести графики accuracy (можно использовать acc_check()) и loss при обучении\n",
    "\n",
    "model = ResNet34() # ResNet34\n",
    "model.cuda(CUDA_DEVICE)\n",
    "\n",
    "#all parameters from https://arxiv.org/pdf/1512.03385.pdf\n",
    "epochs_cnt = 40\n",
    "\n",
    "# эти параметры тоже на ваше усмотрение\n",
    "minibatch_size = 60 # 125 \n",
    "val_batch_size = 100\n",
    "test_batch_size = 100\n",
    "\n",
    "lr = 0.1\n",
    "optimizer = torch.optim.SGD(model.parameters(), lr=0.1, momentum=0.9, nesterov=True) # выбираем отимизатор \n",
    "scheduler = torch.optim.lr_scheduler.CyclicLR(optimizer, base_lr=0.00005, max_lr=0.1, step_size_up=5,mode=\"triangular2\")\n",
    "criterion = nn.CrossEntropyLoss().cuda(CUDA_DEVICE)\n",
    "\n",
    "train_loader = torch.utils.data.DataLoader(train_dataset, batch_size = minibatch_size, shuffle = True, num_workers = 2, drop_last = True)\n",
    "val_loader = torch.utils.data.DataLoader(val_dataset, batch_size = val_batch_size, shuffle = True, num_workers = 2, drop_last = True)\n",
    "test_nc_loader = torch.utils.data.DataLoader(test_nc_dataset, batch_size = test_batch_size, shuffle = False, num_workers = 2)\n",
    "losses_train = []\n",
    "losses_val = []\n",
    "train_pred = []\n",
    "val_pred = []\n",
    "\n",
    "# примерный код для обучения модели, не обязательно строго следовать ему\n",
    "for epoch in tqdm(range(epochs_cnt)):    \n",
    "    train_loss = 0.\n",
    "    train_acc = 0.\n",
    "    val_loss = 0.\n",
    "    val_acc = 0.\n",
    "    # обучаемся\n",
    "    model.train()\n",
    "    for batch_idx, (inputs, labels) in enumerate(train_loader):\n",
    "        inputs, labels = inputs.to(CUDA_DEVICE), labels.view(minibatch_size).to(CUDA_DEVICE)\n",
    "        optimizer.zero_grad()\n",
    "        outputs = model(inputs)\n",
    "        loss = criterion(outputs, labels)\n",
    "        train_loss += loss.data\n",
    "        train_acc += (outputs.argmax(axis = 1) == labels).sum()\n",
    "        loss.backward()\n",
    "        optimizer.step()\n",
    "    cur_lr = scheduler.get_last_lr()\n",
    "    scheduler.step()\n",
    "    # считаем метрику и лосс на трейне\n",
    "    train_acc = train_acc / (batch_idx + 1) / minibatch_size\n",
    "    train_pred.append(train_acc.cpu().numpy())\n",
    "    train_loss = train_loss / (batch_idx + 1) \n",
    "    losses_train.append(train_loss.cpu().numpy())\n",
    "    # переводим модель в предсказательный режим\n",
    "    model.eval()\n",
    "    for batch_idx, (inputs, labels) in enumerate(val_loader):\n",
    "        inputs, labels = inputs.to(CUDA_DEVICE), labels.view(val_batch_size).to(CUDA_DEVICE)\n",
    "        outputs = model(inputs)\n",
    "        loss = criterion(outputs, labels)\n",
    "        val_loss += loss.data\n",
    "        val_acc += (outputs.argmax(axis = 1) == labels).sum()\n",
    "    # считаем метрику и лосс на отложенном \n",
    "    val_acc = val_acc / (batch_idx + 1) / val_batch_size\n",
    "    val_pred.append(val_acc.cpu().numpy())\n",
    "    val_loss = val_loss / (batch_idx + 1)\n",
    "    losses_val.append(val_loss.cpu().numpy())\n",
    "    # фиксируем прибыль\n",
    "    print(f\"\\nepoch: {epoch + 1}\\nlr: {str(cur_lr[0])[:7]}\")\n",
    "    print(f\"Train accuracy: {train_acc}\\nTrain loss: {train_loss}\")\n",
    "    print(f\"Validation accuracy: {val_acc}\\nValidation loss: {val_loss}\")\n",
    "\n",
    "\n",
    "print('Finished Training')"
   ]
  },
  {
   "cell_type": "code",
   "execution_count": 13,
   "metadata": {
    "colab": {
     "base_uri": "https://localhost:8080/",
     "height": 282
    },
    "id": "lcqrnrQRARH-",
    "outputId": "e7241673-e7f6-473a-b9e6-502cf19a2a03"
   },
   "outputs": [
    {
     "data": {
      "image/png": "[encoded data removed]",
      "text/plain": [
       "<Figure size 432x288 with 2 Axes>"
      ]
     },
     "metadata": {},
     "output_type": "display_data"
    }
   ],
   "source": [
    "import pylab\n",
    "\n",
    "plt.style.use('ggplot')\n",
    "# Две строки, два столбца. Текущая ячейка - 1\n",
    "plt.subplot (3, 1, 1)\n",
    "plt.plot(list(range(int(epochs_cnt))), losses_train, \"--\")\n",
    "plt.plot(list(range(int(epochs_cnt))), losses_val, label='val loss')\n",
    "plt.title (\"Лоссы на трейне и тесте по эпохам\")\n",
    "\n",
    "# Две строки, два столбца. Текущая ячейка - 3\n",
    "plt.subplot (3, 1, 3)\n",
    "plt.plot(list(range(int(epochs_cnt))), train_pred, \"--\" )\n",
    "plt.plot(list(range(int(epochs_cnt))), val_pred, label=\"val acc\" )     \n",
    "plt.title (\"Точность(accuracy) по эпохам на трейне и отложенном сете\")\n",
    "\n",
    "# Покажем окно с нарисованным графиком\n",
    "plt.show()"
   ]
  },
  {
   "cell_type": "code",
   "execution_count": 14,
   "metadata": {
    "colab": {
     "base_uri": "https://localhost:8080/"
    },
    "id": "jEPeYL-XARH-",
    "outputId": "82e0c88e-666b-407b-cf6d-eab9be175559"
   },
   "outputs": [
    {
     "name": "stderr",
     "output_type": "stream",
     "text": [
      "/home/iv.borisov/anaconda3/lib/python3.7/site-packages/ipykernel_launcher.py:7: UserWarning: Implicit dimension choice for softmax has been deprecated. Change the call to include dim=X as an argument.\n",
      "  import sys\n"
     ]
    }
   ],
   "source": [
    "# генерим решение вашей модели\n",
    "solution = make_solution_pytorch(model, test_nc_loader, test_batch_size)\n",
    "with open(\"my_solutionResNet34_\"+str(epochs_cnt)+\"epoch_\"+str(train_pred[-1])[2:4]+\"_\"+str(val_pred[-1])[2:4]+\".csv\", 'w') as fout:\n",
    "    print('Id', 'Prediction', sep=',', file=fout)\n",
    "    for i, prediction in enumerate(solution):\n",
    "        print(i, int(prediction), sep=',', file=fout)"
   ]
  },
  {
   "cell_type": "code",
   "execution_count": 15,
   "metadata": {
    "colab": {
     "base_uri": "https://localhost:8080/"
    },
    "id": "LTmWNOs7S6aK",
    "outputId": "bdf64ebe-3adf-4e5c-8c90-b2bd1f8c02df"
   },
   "outputs": [
    {
     "name": "stderr",
     "output_type": "stream",
     "text": [
      "/home/iv.borisov/anaconda3/lib/python3.7/site-packages/ipykernel_launcher.py:9: UserWarning: Implicit dimension choice for softmax has been deprecated. Change the call to include dim=X as an argument.\n",
      "  if __name__ == '__main__':\n"
     ]
    },
    {
     "data": {
      "text/plain": [
       "tensor(0.9941, device='cuda:0')"
      ]
     },
     "execution_count": 15,
     "metadata": {},
     "output_type": "execute_result"
    }
   ],
   "source": [
    "acc_check(model, train_loader, minibatch_size)"
   ]
  },
  {
   "cell_type": "code",
   "execution_count": 16,
   "metadata": {
    "colab": {
     "base_uri": "https://localhost:8080/"
    },
    "id": "gQeZj6VRS64n",
    "outputId": "994c7550-e8c6-489f-cec3-21e1977192aa"
   },
   "outputs": [
    {
     "name": "stderr",
     "output_type": "stream",
     "text": [
      "/home/iv.borisov/anaconda3/lib/python3.7/site-packages/ipykernel_launcher.py:9: UserWarning: Implicit dimension choice for softmax has been deprecated. Change the call to include dim=X as an argument.\n",
      "  if __name__ == '__main__':\n"
     ]
    },
    {
     "data": {
      "text/plain": [
       "tensor(0.7038, device='cuda:0')"
      ]
     },
     "execution_count": 16,
     "metadata": {},
     "output_type": "execute_result"
    }
   ],
   "source": [
    "acc_check(model, val_loader, val_batch_size)"
   ]
  },
  {
   "cell_type": "code",
   "execution_count": null,
   "metadata": {
    "id": "aNba-ZfFdpjh"
   },
   "outputs": [],
   "source": []
  }
 ],
 "metadata": {
  "accelerator": "GPU",
  "colab": {
   "collapsed_sections": [],
   "name": "Homework_2 full.ipynb",
   "provenance": []
  },
  "kernelspec": {
   "display_name": "Python 3",
   "language": "python",
   "name": "python3"
  },
  "language_info": {
   "codemirror_mode": {
    "name": "ipython",
    "version": 3
   },
   "file_extension": ".py",
   "mimetype": "text/x-python",
   "name": "python",
   "nbconvert_exporter": "python",
   "pygments_lexer": "ipython3",
   "version": "3.7.6"
  }
 },
 "nbformat": 4,
 "nbformat_minor": 1
}
